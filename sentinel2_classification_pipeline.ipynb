{
 "cells": [
  {
   "cell_type": "markdown",
   "metadata": {},
   "source": [
    "# Sentinel-2 Classification Pipeline\n",
    "\n",
    "Complete workflow from data loading to classification using index-based labeling."
   ]
  },
  {
   "cell_type": "code",
   "execution_count": null,
   "metadata": {},
   "outputs": [],
   "source": [
    "import matplotlib.pyplot as plt\n",
    "import numpy as np\n",
    "from sklearn.ensemble import RandomForestClassifier\n",
    "from sklearn.metrics import classification_report, confusion_matrix\n",
    "from sklearn.model_selection import train_test_split\n",
    "\n",
    "from src.sentinel2_classifier import (\n",
    "    Sentinel2Classifier,\n",
    "    calculate_indices_from_sentinel2,\n",
    "    create_sample_labels_from_index,\n",
    "    get_raster_info,\n",
    "    load_sentinel2_image,\n",
    "    prepare_features,\n",
    "    save_classified_raster,\n",
    "    visualize_classification,\n",
    ")"
   ]
  },
  {
   "cell_type": "markdown",
   "metadata": {},
   "source": [
    "## 1. Data Loading and Inspection"
   ]
  },
  {
   "cell_type": "code",
   "execution_count": null,
   "metadata": {},
   "outputs": [],
   "source": [
    "# Set your Sentinel-2 image path\n",
    "image_path = \"path/to/sentinel2_image.tif\"  # Replace with actual path\n",
    "\n",
    "# Load and inspect image\n",
    "try:\n",
    "    data, profile = load_sentinel2_image(image_path)\n",
    "    print(f\"Image shape: {data.shape}\")\n",
    "    print(\"\\nRaster info:\")\n",
    "    info = get_raster_info(image_path)\n",
    "    for key, value in info.items():\n",
    "        print(f\"{key}: {value}\")\n",
    "except FileNotFoundError:\n",
    "    print(\"Please set a valid Sentinel-2 image path\")\n",
    "    # Create dummy data for demo\n",
    "    data = np.random.randint(0, 4000, (4, 100, 100)).astype(np.uint16)\n",
    "    profile = {\"width\": 100, \"height\": 100, \"count\": 4}\n",
    "    print(\"Using dummy data for demonstration\")"
   ]
  },
  {
   "cell_type": "markdown",
   "metadata": {},
   "source": [
    "## 2. Calculate Indices and Visualize"
   ]
  },
  {
   "cell_type": "code",
   "execution_count": null,
   "metadata": {},
   "outputs": [],
   "source": [
    "# Calculate NDVI and NDWI\n",
    "ndvi, ndwi = calculate_indices_from_sentinel2(data)\n",
    "\n",
    "# Visualize indices\n",
    "fig, axes = plt.subplots(1, 2, figsize=(12, 5))\n",
    "\n",
    "im1 = axes[0].imshow(ndvi, cmap=\"RdYlGn\", vmin=-1, vmax=1)\n",
    "axes[0].set_title(\"NDVI\")\n",
    "plt.colorbar(im1, ax=axes[0])\n",
    "\n",
    "im2 = axes[1].imshow(ndwi, cmap=\"Blues\", vmin=-1, vmax=1)\n",
    "axes[1].set_title(\"NDWI\")\n",
    "plt.colorbar(im2, ax=axes[1])\n",
    "\n",
    "plt.tight_layout()\n",
    "plt.show()"
   ]
  },
  {
   "cell_type": "markdown",
   "metadata": {},
   "source": [
    "## 3. Generate Dataset with Index-based Labels"
   ]
  },
  {
   "cell_type": "code",
   "execution_count": null,
   "metadata": {},
   "outputs": [],
   "source": [
    "# Prepare features (sklearn format)\n",
    "features = prepare_features(data)\n",
    "print(f\"Features shape: {features.shape}\")\n",
    "\n",
    "# Generate labels from indices\n",
    "labels = create_sample_labels_from_index(data)\n",
    "print(f\"Labels shape: {labels.shape}\")\n",
    "print(f\"Classes: {np.unique(labels)} (0=Water, 1=Vegetation, 2=Urban)\")\n",
    "print(f\"Class distribution: {np.bincount(labels)}\")"
   ]
  },
  {
   "cell_type": "markdown",
   "metadata": {},
   "source": [
    "## 4. Train-Test Split and Model Training"
   ]
  },
  {
   "cell_type": "code",
   "execution_count": null,
   "metadata": {},
   "outputs": [],
   "source": [
    "# Split dataset\n",
    "X_train, X_test, y_train, y_test = train_test_split(\n",
    "    features, labels, test_size=0.3, random_state=42, stratify=labels\n",
    ")\n",
    "\n",
    "print(f\"Training set: {X_train.shape[0]} samples\")\n",
    "print(f\"Test set: {X_test.shape[0]} samples\")"
   ]
  },
  {
   "cell_type": "code",
   "execution_count": null,
   "metadata": {},
   "outputs": [],
   "source": [
    "# Initialize and train classifier\n",
    "classifier = Sentinel2Classifier(\n",
    "    RandomForestClassifier(n_estimators=100, random_state=42)\n",
    ")\n",
    "\n",
    "print(\"Training model...\")\n",
    "classifier.train(X_train, y_train)\n",
    "print(\"Training completed!\")"
   ]
  },
  {
   "cell_type": "markdown",
   "metadata": {},
   "source": [
    "## 5. Model Evaluation"
   ]
  },
  {
   "cell_type": "code",
   "execution_count": null,
   "metadata": {},
   "outputs": [],
   "source": [
    "# Predict on test set\n",
    "y_pred = classifier.predict(X_test)\n",
    "\n",
    "# Classification report\n",
    "class_names = [\"Water\", \"Vegetation\", \"Urban\"]\n",
    "print(\"Classification Report:\")\n",
    "print(classification_report(y_test, y_pred, target_names=class_names))\n",
    "\n",
    "# Confusion matrix\n",
    "cm = confusion_matrix(y_test, y_pred)\n",
    "plt.figure(figsize=(8, 6))\n",
    "plt.imshow(cm, interpolation=\"nearest\", cmap=plt.cm.Blues)\n",
    "plt.title(\"Confusion Matrix\")\n",
    "plt.colorbar()\n",
    "plt.xticks(range(3), class_names)\n",
    "plt.yticks(range(3), class_names)\n",
    "plt.ylabel(\"True Label\")\n",
    "plt.xlabel(\"Predicted Label\")\n",
    "plt.show()"
   ]
  },
  {
   "cell_type": "markdown",
   "metadata": {},
   "source": [
    "## 6. Full Image Classification"
   ]
  },
  {
   "cell_type": "code",
   "execution_count": null,
   "metadata": {},
   "outputs": [],
   "source": [
    "# Classify entire image\n",
    "print(\"Classifying full image...\")\n",
    "predictions = classifier.predict(features)\n",
    "\n",
    "# Reshape to image format\n",
    "_, height, width = data.shape\n",
    "classified_image = predictions.reshape(height, width)\n",
    "\n",
    "# Visualize results\n",
    "visualize_classification(classified_image)\n",
    "\n",
    "print(f\"Classification completed! Shape: {classified_image.shape}\")"
   ]
  },
  {
   "cell_type": "markdown",
   "metadata": {},
   "source": [
    "## 7. Save Model and Results"
   ]
  },
  {
   "cell_type": "code",
   "execution_count": null,
   "metadata": {},
   "outputs": [],
   "source": [
    "# Save trained model\n",
    "classifier.save_model(\"trained_model.pkl\")\n",
    "print(\"Model saved to trained_model.pkl\")\n",
    "\n",
    "# Save classified raster (if original image was loaded)\n",
    "if \"profile\" in locals() and profile.get(\"crs\"):\n",
    "    save_classified_raster(predictions, profile, \"classified_output.tif\", height, width)\n",
    "    print(\"Classified raster saved to classified_output.tif\")\n",
    "else:\n",
    "    print(\"Skipping raster save (no geospatial profile available)\")"
   ]
  },
  {
   "cell_type": "markdown",
   "metadata": {},
   "source": [
    "## 8. Load and Test Saved Model"
   ]
  },
  {
   "cell_type": "code",
   "execution_count": null,
   "metadata": {},
   "outputs": [],
   "source": [
    "# Test loading saved model\n",
    "test_classifier = Sentinel2Classifier()\n",
    "test_classifier.load_model(\"trained_model.pkl\")\n",
    "\n",
    "# Quick prediction test\n",
    "test_pred = test_classifier.predict(features[:100])  # Test on first 100 pixels\n",
    "print(f\"Loaded model test - predictions shape: {test_pred.shape}\")\n",
    "print(f\"Predicted classes: {np.unique(test_pred)}\")\n",
    "print(\"Pipeline completed successfully!\")"
   ]
  }
 ],
 "metadata": {
  "kernelspec": {
   "display_name": "Python 3",
   "language": "python",
   "name": "python3"
  },
  "language_info": {
   "codemirror_mode": {
    "name": "ipython",
    "version": 3
   },
   "file_extension": ".py",
   "mimetype": "text/x-python",
   "name": "python",
   "nbconvert_exporter": "python",
   "pygments_lexer": "ipython3",
   "version": "3.12.9"
  }
 },
 "nbformat": 4,
 "nbformat_minor": 4
}
